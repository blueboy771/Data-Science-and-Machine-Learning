{
 "cells": [
  {
   "cell_type": "code",
   "execution_count": 4,
   "id": "ca28f7a5-823b-4075-b1d2-0414257a7c06",
   "metadata": {},
   "outputs": [],
   "source": [
    "# 1. Array Creation:\n",
    "# o Create a 1-dimensional array of integers from 1 to 10.\n",
    "# o Create a 2-dimensional array with random float values of shape (3, 4).\n",
    "# o Create a 3-dimensional array of zeros with shape (2, 3, 4)."
   ]
  },
  {
   "cell_type": "code",
   "execution_count": 6,
   "id": "5185702e-62bf-47f9-be9e-c01bd45176b2",
   "metadata": {},
   "outputs": [],
   "source": [
    "import numpy as np"
   ]
  },
  {
   "cell_type": "code",
   "execution_count": 8,
   "id": "381d1c54-77c7-4e17-abca-85b77d5c2630",
   "metadata": {},
   "outputs": [
    {
     "data": {
      "text/plain": [
       "array([ 1,  2,  3,  4,  5,  6,  7,  8,  9, 10])"
      ]
     },
     "execution_count": 8,
     "metadata": {},
     "output_type": "execute_result"
    }
   ],
   "source": [
    "arr = np.array([1, 2, 3, 4, 5, 6, 7, 8, 9, 10])\n",
    "arr"
   ]
  },
  {
   "cell_type": "code",
   "execution_count": 10,
   "id": "05f5fd95-cc66-40d0-b1ce-5a9b680e1c85",
   "metadata": {},
   "outputs": [
    {
     "data": {
      "text/plain": [
       "array([[0.84457455, 0.96921744, 0.79667088, 0.71268541],\n",
       "       [0.31307133, 0.70886953, 0.41316085, 0.4327455 ],\n",
       "       [0.55390425, 0.13872761, 0.05607425, 0.00325893]])"
      ]
     },
     "execution_count": 10,
     "metadata": {},
     "output_type": "execute_result"
    }
   ],
   "source": [
    "random_array = np.random.rand(3, 4)\n",
    "random_array"
   ]
  },
  {
   "cell_type": "code",
   "execution_count": 24,
   "id": "8db3cea5-83df-4674-90d1-e74e213f9e17",
   "metadata": {},
   "outputs": [
    {
     "data": {
      "text/plain": [
       "array([[[0., 0., 0., 0.],\n",
       "        [0., 0., 0., 0.],\n",
       "        [0., 0., 0., 0.]],\n",
       "\n",
       "       [[0., 0., 0., 0.],\n",
       "        [0., 0., 0., 0.],\n",
       "        [0., 0., 0., 0.]]])"
      ]
     },
     "execution_count": 24,
     "metadata": {},
     "output_type": "execute_result"
    }
   ],
   "source": [
    "rand_ar = np.zeros((2, 3, 4))\n",
    "rand_ar"
   ]
  },
  {
   "cell_type": "raw",
   "id": "6475bd0e-9c4b-4030-a89d-2ef26c3b8110",
   "metadata": {},
   "source": [
    "2. Array Operations:\n",
    "o Given two 1-dimensional arrays, perform element-wise addition, subtraction, multiplication, and division.\n",
    "o Calculate the mean, median, and standard deviation of a given 1- dimensional array.\n",
    "o Reshape a 1-dimensional array into a 2-dimensional array of shape (3, 4)."
   ]
  },
  {
   "cell_type": "code",
   "execution_count": 44,
   "id": "f05167e6-b8ca-49fe-bf56-11018ee846fe",
   "metadata": {},
   "outputs": [],
   "source": [
    "one = np.array([[1, 2], [3, 4]])\n",
    "two = np.array([[5, 6], [7, 8]])"
   ]
  },
  {
   "cell_type": "code",
   "execution_count": 48,
   "id": "dc7835df-d43b-4ff0-870f-fe55da98a7a3",
   "metadata": {},
   "outputs": [
    {
     "data": {
      "text/plain": [
       "array([[ 6,  8],\n",
       "       [10, 12]])"
      ]
     },
     "execution_count": 48,
     "metadata": {},
     "output_type": "execute_result"
    }
   ],
   "source": [
    "add = one + two\n",
    "add"
   ]
  },
  {
   "cell_type": "code",
   "execution_count": 52,
   "id": "bfa3bd1b-9da8-46a6-aee2-37e4f05e7654",
   "metadata": {},
   "outputs": [
    {
     "data": {
      "text/plain": [
       "array([[4, 4],\n",
       "       [4, 4]])"
      ]
     },
     "execution_count": 52,
     "metadata": {},
     "output_type": "execute_result"
    }
   ],
   "source": [
    "sub = two - one\n",
    "sub"
   ]
  },
  {
   "cell_type": "code",
   "execution_count": 56,
   "id": "85ebbe12-a11f-4981-b4b2-7ededc6c48b6",
   "metadata": {},
   "outputs": [
    {
     "data": {
      "text/plain": [
       "array([[ 5, 12],\n",
       "       [21, 32]])"
      ]
     },
     "execution_count": 56,
     "metadata": {},
     "output_type": "execute_result"
    }
   ],
   "source": [
    "mul = one * two\n",
    "mul"
   ]
  },
  {
   "cell_type": "code",
   "execution_count": 60,
   "id": "89d467d6-bb23-4723-a148-118c8ce51d5a",
   "metadata": {},
   "outputs": [
    {
     "data": {
      "text/plain": [
       "array([[5.        , 3.        ],\n",
       "       [2.33333333, 2.        ]])"
      ]
     },
     "execution_count": 60,
     "metadata": {},
     "output_type": "execute_result"
    }
   ],
   "source": [
    "div = two / one\n",
    "div"
   ]
  },
  {
   "cell_type": "code",
   "execution_count": 68,
   "id": "887ad2e0-7f86-4221-a312-51e31658cf2f",
   "metadata": {},
   "outputs": [
    {
     "data": {
      "text/plain": [
       "5.5"
      ]
     },
     "execution_count": 68,
     "metadata": {},
     "output_type": "execute_result"
    }
   ],
   "source": [
    "one_d = np.array([1, 2, 3, 4, 5, 6, 7, 8, 9, 10])\n",
    "one_d.mean()"
   ]
  },
  {
   "cell_type": "code",
   "execution_count": 78,
   "id": "2c3bf0d0-4cd4-4964-a199-814e291c8a9b",
   "metadata": {},
   "outputs": [
    {
     "data": {
      "text/plain": [
       "2.8722813232690143"
      ]
     },
     "execution_count": 78,
     "metadata": {},
     "output_type": "execute_result"
    }
   ],
   "source": [
    "one_d.std()"
   ]
  },
  {
   "cell_type": "code",
   "execution_count": 80,
   "id": "06d63a68-a369-4f89-8c9b-6affc745f983",
   "metadata": {},
   "outputs": [
    {
     "data": {
      "text/plain": [
       "5.5"
      ]
     },
     "execution_count": 80,
     "metadata": {},
     "output_type": "execute_result"
    }
   ],
   "source": [
    "np.median(one_d)"
   ]
  },
  {
   "cell_type": "code",
   "execution_count": 86,
   "id": "c8c6ed25-897b-4bba-889f-8eee2bf2f6a0",
   "metadata": {},
   "outputs": [
    {
     "data": {
      "text/plain": [
       "array([[ 1,  2,  3,  4],\n",
       "       [ 5,  6,  7,  8],\n",
       "       [ 9, 10, 11, 12]])"
      ]
     },
     "execution_count": 86,
     "metadata": {},
     "output_type": "execute_result"
    }
   ],
   "source": [
    "one_d = np.array([1, 2, 3, 4, 5, 6, 7, 8, 9, 10, 11, 12])\n",
    "two_d = one_d.reshape(3, 4)\n",
    "two_d"
   ]
  },
  {
   "cell_type": "code",
   "execution_count": null,
   "id": "bcb9a322-e305-499f-9213-12161d82c1f2",
   "metadata": {},
   "outputs": [],
   "source": []
  },
  {
   "cell_type": "code",
   "execution_count": 92,
   "id": "e1648b09-b197-43d8-b3d5-5e69b016e3e8",
   "metadata": {},
   "outputs": [],
   "source": [
    "# 3. Array Indexing and Slicing:\n",
    "# o Extract the first row and last column of a 2-dimensional array.\n",
    "# o Reverse the order of elements in a 1-dimensional array.\n",
    "# o Select elements from a 2-dimensional array that satisfy a specific condition (e.g., values greater than a certain threshold)."
   ]
  },
  {
   "cell_type": "code",
   "execution_count": 100,
   "id": "cde240db-2d0a-4059-b18b-3e382df93144",
   "metadata": {},
   "outputs": [
    {
     "data": {
      "text/plain": [
       "array([1, 2, 3, 4])"
      ]
     },
     "execution_count": 100,
     "metadata": {},
     "output_type": "execute_result"
    }
   ],
   "source": [
    "first_r = two_d[0, : ]\n",
    "first_r"
   ]
  },
  {
   "cell_type": "code",
   "execution_count": 96,
   "id": "6271b04c-45f3-4400-9cca-5852130bc62d",
   "metadata": {},
   "outputs": [
    {
     "data": {
      "text/plain": [
       "array([ 4,  8, 12])"
      ]
     },
     "execution_count": 96,
     "metadata": {},
     "output_type": "execute_result"
    }
   ],
   "source": [
    "last_c = two_d[:, -1]\n",
    "last_c"
   ]
  },
  {
   "cell_type": "code",
   "execution_count": 108,
   "id": "81b77e2b-5849-4479-8638-d491c4dc41ee",
   "metadata": {},
   "outputs": [
    {
     "data": {
      "text/plain": [
       "array([9, 1, 7, 5, 2, 4])"
      ]
     },
     "execution_count": 108,
     "metadata": {},
     "output_type": "execute_result"
    }
   ],
   "source": [
    "one_d = np.array([4, 2, 5, 7, 1, 9])\n",
    "one_d[::-1]"
   ]
  },
  {
   "cell_type": "code",
   "execution_count": 114,
   "id": "b366be25-7fbe-46ff-90ed-30de3a4771e1",
   "metadata": {},
   "outputs": [
    {
     "data": {
      "text/plain": [
       "array([ 3,  6,  9, 12])"
      ]
     },
     "execution_count": 114,
     "metadata": {},
     "output_type": "execute_result"
    }
   ],
   "source": [
    "condition = two_d % 3 == 0\n",
    "new = two_d[condition]\n",
    "new"
   ]
  },
  {
   "cell_type": "code",
   "execution_count": null,
   "id": "07f2422f-fb65-47c7-a2a9-b148714bebb0",
   "metadata": {},
   "outputs": [],
   "source": [
    "# 4. Array Broadcasting:\n",
    "# o Add a scalar value to each element of a 2-dimensional array.\n",
    "# o Multiply a 1-dimensional array with a 2-dimensional array, leveraging NumPy's broadcasting rules."
   ]
  },
  {
   "cell_type": "code",
   "execution_count": 116,
   "id": "93b284a1-d140-46f3-ae0d-e89654caeb04",
   "metadata": {},
   "outputs": [
    {
     "data": {
      "text/plain": [
       "array([[ 3,  4,  5,  6],\n",
       "       [ 7,  8,  9, 10],\n",
       "       [11, 12, 13, 14]])"
      ]
     },
     "execution_count": 116,
     "metadata": {},
     "output_type": "execute_result"
    }
   ],
   "source": [
    "add_2 = two_d + 2\n",
    "add_2"
   ]
  },
  {
   "cell_type": "code",
   "execution_count": 118,
   "id": "5f1566aa-2e84-4f78-a936-27fd6fe35268",
   "metadata": {},
   "outputs": [
    {
     "data": {
      "text/plain": [
       "array([[ 3,  8],\n",
       "       [ 5, 12]])"
      ]
     },
     "execution_count": 118,
     "metadata": {},
     "output_type": "execute_result"
    }
   ],
   "source": [
    "one_d = np.array([1, 2])\n",
    "two_d = np.array([[3, 4], [5, 6]])\n",
    "one_d * two_d"
   ]
  },
  {
   "cell_type": "code",
   "execution_count": 120,
   "id": "89599f50-c898-4c61-b587-08dbe202c7de",
   "metadata": {},
   "outputs": [],
   "source": [
    "# 5. Linear Algebra:\n",
    "# o Calculate the dot product of two 1-dimensional arrays.\n",
    "# o Compute the matrix multiplication of two 2-dimensional arrays.\n",
    "# o Find the inverse and determinant of a square matrix."
   ]
  },
  {
   "cell_type": "code",
   "execution_count": 122,
   "id": "4ab607d9-8f2d-4d4b-9571-c48f016e4f12",
   "metadata": {},
   "outputs": [
    {
     "data": {
      "text/plain": [
       "5"
      ]
     },
     "execution_count": 122,
     "metadata": {},
     "output_type": "execute_result"
    }
   ],
   "source": [
    "one_d = np.array([1, 2])\n",
    "one_dd = np.array([1, 2])\n",
    "one_d.dot(one_dd)"
   ]
  },
  {
   "cell_type": "code",
   "execution_count": 124,
   "id": "f47516bb-af92-44c6-b089-359ac5f6a8b5",
   "metadata": {},
   "outputs": [
    {
     "data": {
      "text/plain": [
       "5"
      ]
     },
     "execution_count": 124,
     "metadata": {},
     "output_type": "execute_result"
    }
   ],
   "source": [
    "np.dot(one_d, one_dd)"
   ]
  },
  {
   "cell_type": "code",
   "execution_count": 126,
   "id": "f5990b08-b5a2-4171-b074-af5d4d8ee810",
   "metadata": {},
   "outputs": [
    {
     "data": {
      "text/plain": [
       "array([[305, 310],\n",
       "       [473, 486]])"
      ]
     },
     "execution_count": 126,
     "metadata": {},
     "output_type": "execute_result"
    }
   ],
   "source": [
    "two_d = np.array([[3, 4], [5, 6]])\n",
    "two_dd = np.array([[31, 42], [53, 46]])\n",
    "np.dot(two_d, two_dd)"
   ]
  },
  {
   "cell_type": "code",
   "execution_count": 132,
   "id": "71d96785-8f15-478f-a50c-1b0c6fced3f6",
   "metadata": {},
   "outputs": [
    {
     "data": {
      "text/plain": [
       "-2.0000000000000004"
      ]
     },
     "execution_count": 132,
     "metadata": {},
     "output_type": "execute_result"
    }
   ],
   "source": [
    "np.linalg.det(two_d)"
   ]
  },
  {
   "cell_type": "code",
   "execution_count": 136,
   "id": "fe2a3887-3df9-4a67-84d5-06d354e1ee32",
   "metadata": {},
   "outputs": [
    {
     "data": {
      "text/plain": [
       "array([[-3. ,  2. ],\n",
       "       [ 2.5, -1.5]])"
      ]
     },
     "execution_count": 136,
     "metadata": {},
     "output_type": "execute_result"
    }
   ],
   "source": [
    "np.linalg.inv(two_d)"
   ]
  },
  {
   "cell_type": "code",
   "execution_count": null,
   "id": "5a5cb5f5-d1ad-4f90-b04b-643efe38022c",
   "metadata": {},
   "outputs": [],
   "source": []
  }
 ],
 "metadata": {
  "kernelspec": {
   "display_name": "Python 3 (ipykernel)",
   "language": "python",
   "name": "python3"
  },
  "language_info": {
   "codemirror_mode": {
    "name": "ipython",
    "version": 3
   },
   "file_extension": ".py",
   "mimetype": "text/x-python",
   "name": "python",
   "nbconvert_exporter": "python",
   "pygments_lexer": "ipython3",
   "version": "3.12.7"
  }
 },
 "nbformat": 4,
 "nbformat_minor": 5
}
