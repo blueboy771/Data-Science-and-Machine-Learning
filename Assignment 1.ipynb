{
 "cells": [
  {
   "cell_type": "code",
   "execution_count": 2,
   "id": "77f42b64-4d63-4104-b963-00839f7f258f",
   "metadata": {},
   "outputs": [],
   "source": [
    "# Create a list of your favorite movies and print it. Then, append a new movie to the list and print the updated list."
   ]
  },
  {
   "cell_type": "code",
   "execution_count": 6,
   "id": "9ef56d52-506d-45f9-bb1e-24af5112a7bd",
   "metadata": {},
   "outputs": [],
   "source": [
    "list_m = [\"Candy\", \"Jawan\", \"Gadar 2\", \"Pathaan\", \"Animal\"]"
   ]
  },
  {
   "cell_type": "code",
   "execution_count": 8,
   "id": "b8f23697-a3fe-4e17-bd65-b1f72dead0ca",
   "metadata": {},
   "outputs": [
    {
     "data": {
      "text/plain": [
       "['Candy', 'Jawan', 'Gadar 2', 'Pathaan', 'Animal']"
      ]
     },
     "execution_count": 8,
     "metadata": {},
     "output_type": "execute_result"
    }
   ],
   "source": [
    "list_m"
   ]
  },
  {
   "cell_type": "code",
   "execution_count": 10,
   "id": "62ebee43-2be8-4692-8515-bd292358a918",
   "metadata": {},
   "outputs": [],
   "source": [
    "list_m.append(\"Data Science\")"
   ]
  },
  {
   "cell_type": "code",
   "execution_count": 12,
   "id": "51b91dd7-f90e-473c-b8a0-3c595e27ff13",
   "metadata": {},
   "outputs": [
    {
     "data": {
      "text/plain": [
       "['Candy', 'Jawan', 'Gadar 2', 'Pathaan', 'Animal', 'Data Science']"
      ]
     },
     "execution_count": 12,
     "metadata": {},
     "output_type": "execute_result"
    }
   ],
   "source": [
    "list_m"
   ]
  },
  {
   "cell_type": "code",
   "execution_count": null,
   "id": "4531a50e-7b60-460a-9f06-60fb0eeee65b",
   "metadata": {},
   "outputs": [],
   "source": []
  },
  {
   "cell_type": "code",
   "execution_count": 15,
   "id": "4bf54399-cf66-4fd8-96a2-ad7ccb0127a7",
   "metadata": {},
   "outputs": [],
   "source": [
    "# Create a list of integers from 1 to 10 and print it. Calculate the sum of all the numbers in the list and print the result."
   ]
  },
  {
   "cell_type": "code",
   "execution_count": 17,
   "id": "19c33a19-e3b5-47ed-8ca2-4a5cafe27f89",
   "metadata": {},
   "outputs": [
    {
     "data": {
      "text/plain": [
       "[1, 2, 3, 4, 5, 6, 7, 8, 9, 10]"
      ]
     },
     "execution_count": 17,
     "metadata": {},
     "output_type": "execute_result"
    }
   ],
   "source": [
    "list_n = [1, 2, 3, 4, 5, 6, 7, 8, 9, 10]\n",
    "list_n"
   ]
  },
  {
   "cell_type": "code",
   "execution_count": 23,
   "id": "35cff041-eeaa-4dcc-a4f8-9f98d3aa5089",
   "metadata": {},
   "outputs": [
    {
     "data": {
      "text/plain": [
       "55"
      ]
     },
     "execution_count": 23,
     "metadata": {},
     "output_type": "execute_result"
    }
   ],
   "source": [
    "sum = 0\n",
    "for i in list_n:\n",
    "    sum = sum + i\n",
    "sum"
   ]
  },
  {
   "cell_type": "code",
   "execution_count": null,
   "id": "f2cda13e-5c53-4ceb-8387-b601616df08d",
   "metadata": {},
   "outputs": [],
   "source": []
  },
  {
   "cell_type": "code",
   "execution_count": 26,
   "id": "ce30aec1-7ce5-4306-92f5-fd21ddba8e2a",
   "metadata": {},
   "outputs": [],
   "source": [
    "# Create a list of mixed data types including strings, integers, and floats and print it. Remove the first element from the list and print the modified list."
   ]
  },
  {
   "cell_type": "code",
   "execution_count": 28,
   "id": "1829e2b9-781c-48c5-843e-02b3849a564b",
   "metadata": {},
   "outputs": [
    {
     "data": {
      "text/plain": [
       "['Raju', 1, 1.1]"
      ]
     },
     "execution_count": 28,
     "metadata": {},
     "output_type": "execute_result"
    }
   ],
   "source": [
    "list_mix = [\"Raju\", 1, 1.1]\n",
    "list_mix"
   ]
  },
  {
   "cell_type": "code",
   "execution_count": 30,
   "id": "31d9b16f-34c7-473a-ba4f-8683a4cfd3bb",
   "metadata": {},
   "outputs": [
    {
     "data": {
      "text/plain": [
       "[1, 1.1]"
      ]
     },
     "execution_count": 30,
     "metadata": {},
     "output_type": "execute_result"
    }
   ],
   "source": [
    "list_mix.pop(0)\n",
    "list_mix"
   ]
  },
  {
   "cell_type": "code",
   "execution_count": null,
   "id": "a7e3379f-d93d-461d-b29c-45718a96eb8a",
   "metadata": {},
   "outputs": [],
   "source": []
  },
  {
   "cell_type": "code",
   "execution_count": 33,
   "id": "0009a073-bd60-4a33-943b-2e5bfe1cc6fa",
   "metadata": {},
   "outputs": [],
   "source": [
    "# Create a tuple containing the names of the days of the week and print it. Access and print the name of the third day."
   ]
  },
  {
   "cell_type": "code",
   "execution_count": 35,
   "id": "bee55c30-c9a3-48d6-b8c4-97e965b9ac17",
   "metadata": {},
   "outputs": [
    {
     "data": {
      "text/plain": [
       "('Sun', 'Mon', 'Tue', 'Wed', 'Thu', 'Fri', 'Sat')"
      ]
     },
     "execution_count": 35,
     "metadata": {},
     "output_type": "execute_result"
    }
   ],
   "source": [
    "tuple_d = (\"Sun\", \"Mon\", \"Tue\", \"Wed\", \"Thu\", \"Fri\", \"Sat\")\n",
    "tuple_d"
   ]
  },
  {
   "cell_type": "code",
   "execution_count": 37,
   "id": "cbbd5397-5d4f-418a-b8d1-33eb166d4d15",
   "metadata": {},
   "outputs": [
    {
     "data": {
      "text/plain": [
       "'Tue'"
      ]
     },
     "execution_count": 37,
     "metadata": {},
     "output_type": "execute_result"
    }
   ],
   "source": [
    "tuple_d[2]"
   ]
  },
  {
   "cell_type": "code",
   "execution_count": null,
   "id": "a7b812ed-0546-4ace-bcef-31f9531a852d",
   "metadata": {},
   "outputs": [],
   "source": []
  },
  {
   "cell_type": "code",
   "execution_count": 40,
   "id": "64bc1a2c-2dc7-4160-aebc-1f3df4cc97d7",
   "metadata": {},
   "outputs": [],
   "source": [
    "# Create a tuple of your favorite colors and print it. Check if a certain color is present in the tuple and print the result."
   ]
  },
  {
   "cell_type": "code",
   "execution_count": 42,
   "id": "311767f1-eb6f-4f5c-8179-0ef0aa532785",
   "metadata": {},
   "outputs": [
    {
     "data": {
      "text/plain": [
       "('Blue', 'Black', 'White')"
      ]
     },
     "execution_count": 42,
     "metadata": {},
     "output_type": "execute_result"
    }
   ],
   "source": [
    "tuple_c = (\"Blue\", \"Black\", \"White\")\n",
    "tuple_c"
   ]
  },
  {
   "cell_type": "code",
   "execution_count": 54,
   "id": "0f9799b8-ce6c-4e55-89e6-6879c3e6e870",
   "metadata": {},
   "outputs": [
    {
     "name": "stdout",
     "output_type": "stream",
     "text": [
      "Color Blue Exist In The List\n"
     ]
    }
   ],
   "source": [
    "if \"Blue\" in tuple_c:\n",
    "    print(\"Color Blue Exist In The List\")"
   ]
  },
  {
   "cell_type": "code",
   "execution_count": null,
   "id": "8e82380d-bee3-4621-a117-704a20208736",
   "metadata": {},
   "outputs": [],
   "source": []
  },
  {
   "cell_type": "code",
   "execution_count": 57,
   "id": "4e609fdc-1444-4daf-8cc7-61e88698cabe",
   "metadata": {},
   "outputs": [],
   "source": [
    "# Create a dictionary representing the information of a book with keys \"title\", \"author\", and \"year\" and print it. Update the year of the book and print the updated dictionary."
   ]
  },
  {
   "cell_type": "code",
   "execution_count": 61,
   "id": "41de0bfe-b352-44ef-a04f-83e4f3f66ed8",
   "metadata": {},
   "outputs": [
    {
     "data": {
      "text/plain": [
       "{'one': 'Data Science', 'two': 'Raju Shrestha', 'three': '2000-001-01'}"
      ]
     },
     "execution_count": 61,
     "metadata": {},
     "output_type": "execute_result"
    }
   ],
   "source": [
    "dict_b = {\n",
    "    \"one\" : \"Data Science\",\n",
    "    \"two\" : \"Raju Shrestha\",\n",
    "    \"three\" : \"2000-001-01\"\n",
    "}    \n",
    "dict_b"
   ]
  },
  {
   "cell_type": "code",
   "execution_count": 65,
   "id": "4b4dbfd7-7035-4641-aafa-a48b23ce1a01",
   "metadata": {},
   "outputs": [
    {
     "data": {
      "text/plain": [
       "{'one': 'Data Science', 'two': 'Raju Shrestha', 'three': '3000-01-01'}"
      ]
     },
     "execution_count": 65,
     "metadata": {},
     "output_type": "execute_result"
    }
   ],
   "source": [
    "dict_b[\"three\"] = \"3000-01-01\"\n",
    "dict_b"
   ]
  },
  {
   "cell_type": "code",
   "execution_count": null,
   "id": "5c270a77-2d20-49f0-bc2c-efe2704fa3d1",
   "metadata": {},
   "outputs": [],
   "source": []
  },
  {
   "cell_type": "code",
   "execution_count": 68,
   "id": "dca466d2-92c0-49fd-81cb-b8d6bfb864f4",
   "metadata": {},
   "outputs": [],
   "source": [
    "# Create a dictionary containing the names of fruits as keys and their corresponding colors\n",
    "# as values and print it. Add a new fruit-color pair to the dictionary and print the updated\n",
    "# dictionary."
   ]
  },
  {
   "cell_type": "code",
   "execution_count": 74,
   "id": "3555ff40-793e-4695-bd18-1a320bbd7558",
   "metadata": {},
   "outputs": [
    {
     "data": {
      "text/plain": [
       "{'Apple': 'Red', 'Banana': 'Yellow', 'Orange': 'Orange'}"
      ]
     },
     "execution_count": 74,
     "metadata": {},
     "output_type": "execute_result"
    }
   ],
   "source": [
    "dict_f = {\n",
    "    \"Apple\"  \"Red\",\n",
    "    \"Banana\" = \"Yellow\",\n",
    "    \"Orange\" = \"Orange\"\n",
    "}\n",
    "dict_f"
   ]
  },
  {
   "cell_type": "code",
   "execution_count": 82,
   "id": "ad90a281-3e4f-4795-8e64-57e1f7f3cbf4",
   "metadata": {},
   "outputs": [
    {
     "data": {
      "text/plain": [
       "{'Apple': 'Red', 'Banana': 'Yellow', 'Orange': 'Orange', 'Kiwi': 'Brown'}"
      ]
     },
     "execution_count": 82,
     "metadata": {},
     "output_type": "execute_result"
    }
   ],
   "source": [
    "dict_f.update({\"Kiwi\" : \"Brown\"})\n",
    "dict_f"
   ]
  },
  {
   "cell_type": "code",
   "execution_count": null,
   "id": "7b92d663-3316-432d-9670-08f02cc16197",
   "metadata": {},
   "outputs": [],
   "source": []
  },
  {
   "cell_type": "code",
   "execution_count": 87,
   "id": "05a70aad-3324-4a0f-9c8b-1ebb697be42f",
   "metadata": {},
   "outputs": [],
   "source": [
    "# Create a dictionary representing the population of different cities with keys as city names\n",
    "# and values as population numbers and print it. Remove a city from the dictionary and print\n",
    "# the modified dictionary."
   ]
  },
  {
   "cell_type": "code",
   "execution_count": 91,
   "id": "48e85d3b-5b9c-4232-9277-6cbd404bf4cb",
   "metadata": {},
   "outputs": [
    {
     "data": {
      "text/plain": [
       "{'Kathmandu': 100000, 'Lalitpur': 32323, 'Bhaktapur': 9876}"
      ]
     },
     "execution_count": 91,
     "metadata": {},
     "output_type": "execute_result"
    }
   ],
   "source": [
    " dict_p = {\n",
    "    \"Kathmandu\" : 100000,\n",
    "    \"Lalitpur\" : 32323,\n",
    "    \"Bhaktapur\" : 9876\n",
    " }\n",
    "dict_p"
   ]
  },
  {
   "cell_type": "code",
   "execution_count": 93,
   "id": "977edd29-bfa2-4e55-af7a-58b75097daae",
   "metadata": {},
   "outputs": [
    {
     "data": {
      "text/plain": [
       "{'Kathmandu': 100000, 'Bhaktapur': 9876}"
      ]
     },
     "execution_count": 93,
     "metadata": {},
     "output_type": "execute_result"
    }
   ],
   "source": [
    "dict_p.pop(\"Lalitpur\")\n",
    "dict_p"
   ]
  },
  {
   "cell_type": "code",
   "execution_count": null,
   "id": "65f44745-ec12-477c-87fe-d5ed99996b5e",
   "metadata": {},
   "outputs": [],
   "source": []
  }
 ],
 "metadata": {
  "kernelspec": {
   "display_name": "Python 3 (ipykernel)",
   "language": "python",
   "name": "python3"
  },
  "language_info": {
   "codemirror_mode": {
    "name": "ipython",
    "version": 3
   },
   "file_extension": ".py",
   "mimetype": "text/x-python",
   "name": "python",
   "nbconvert_exporter": "python",
   "pygments_lexer": "ipython3",
   "version": "3.12.7"
  }
 },
 "nbformat": 4,
 "nbformat_minor": 5
}
